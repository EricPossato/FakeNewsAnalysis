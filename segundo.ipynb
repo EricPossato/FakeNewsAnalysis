{
 "cells": [
  {
   "cell_type": "markdown",
   "id": "18774b0e",
   "metadata": {
    "papermill": {
     "duration": 0.00334,
     "end_time": "2025-04-30T16:10:02.140254",
     "exception": false,
     "start_time": "2025-04-30T16:10:02.136914",
     "status": "completed"
    },
    "tags": []
   },
   "source": [
    "# Load & Preprocessing"
   ]
  },
  {
   "cell_type": "code",
   "execution_count": 18,
   "id": "355871d2",
   "metadata": {
    "execution": {
     "iopub.execute_input": "2025-04-30T16:10:02.147647Z",
     "iopub.status.busy": "2025-04-30T16:10:02.147339Z",
     "iopub.status.idle": "2025-04-30T16:10:07.089521Z",
     "shell.execute_reply": "2025-04-30T16:10:07.088197Z"
    },
    "papermill": {
     "duration": 4.948112,
     "end_time": "2025-04-30T16:10:07.091293",
     "exception": false,
     "start_time": "2025-04-30T16:10:02.143181",
     "status": "completed"
    },
    "tags": []
   },
   "outputs": [],
   "source": [
    "import pandas as pd\n",
    "import warnings\n",
    "warnings.filterwarnings('ignore')\n",
    "\n",
    "dataset_path = 'datasets/WELFake_Dataset.csv'\n",
    "combined_df = pd.read_csv(dataset_path)"
   ]
  },
  {
   "cell_type": "code",
   "execution_count": 19,
   "id": "b5c39c6c",
   "metadata": {
    "execution": {
     "iopub.execute_input": "2025-04-30T16:10:07.098203Z",
     "iopub.status.busy": "2025-04-30T16:10:07.097831Z",
     "iopub.status.idle": "2025-04-30T16:10:07.114941Z",
     "shell.execute_reply": "2025-04-30T16:10:07.113677Z"
    },
    "papermill": {
     "duration": 0.022737,
     "end_time": "2025-04-30T16:10:07.116895",
     "exception": false,
     "start_time": "2025-04-30T16:10:07.094158",
     "status": "completed"
    },
    "tags": []
   },
   "outputs": [
    {
     "data": {
      "text/html": [
       "<div>\n",
       "<style scoped>\n",
       "    .dataframe tbody tr th:only-of-type {\n",
       "        vertical-align: middle;\n",
       "    }\n",
       "\n",
       "    .dataframe tbody tr th {\n",
       "        vertical-align: top;\n",
       "    }\n",
       "\n",
       "    .dataframe thead th {\n",
       "        text-align: right;\n",
       "    }\n",
       "</style>\n",
       "<table border=\"1\" class=\"dataframe\">\n",
       "  <thead>\n",
       "    <tr style=\"text-align: right;\">\n",
       "      <th></th>\n",
       "      <th>Unnamed: 0</th>\n",
       "      <th>title</th>\n",
       "      <th>text</th>\n",
       "      <th>label</th>\n",
       "    </tr>\n",
       "  </thead>\n",
       "  <tbody>\n",
       "    <tr>\n",
       "      <th>0</th>\n",
       "      <td>0</td>\n",
       "      <td>LAW ENFORCEMENT ON HIGH ALERT Following Threat...</td>\n",
       "      <td>No comment is expected from Barack Obama Membe...</td>\n",
       "      <td>True</td>\n",
       "    </tr>\n",
       "    <tr>\n",
       "      <th>1</th>\n",
       "      <td>1</td>\n",
       "      <td>NaN</td>\n",
       "      <td>Did they post their votes for Hillary already?</td>\n",
       "      <td>True</td>\n",
       "    </tr>\n",
       "    <tr>\n",
       "      <th>2</th>\n",
       "      <td>2</td>\n",
       "      <td>UNBELIEVABLE! OBAMA’S ATTORNEY GENERAL SAYS MO...</td>\n",
       "      <td>Now, most of the demonstrators gathered last ...</td>\n",
       "      <td>True</td>\n",
       "    </tr>\n",
       "    <tr>\n",
       "      <th>3</th>\n",
       "      <td>3</td>\n",
       "      <td>Bobby Jindal, raised Hindu, uses story of Chri...</td>\n",
       "      <td>A dozen politically active pastors came here f...</td>\n",
       "      <td>Fake</td>\n",
       "    </tr>\n",
       "    <tr>\n",
       "      <th>4</th>\n",
       "      <td>4</td>\n",
       "      <td>SATAN 2: Russia unvelis an image of its terrif...</td>\n",
       "      <td>The RS-28 Sarmat missile, dubbed Satan 2, will...</td>\n",
       "      <td>True</td>\n",
       "    </tr>\n",
       "  </tbody>\n",
       "</table>\n",
       "</div>"
      ],
      "text/plain": [
       "   Unnamed: 0                                              title  \\\n",
       "0           0  LAW ENFORCEMENT ON HIGH ALERT Following Threat...   \n",
       "1           1                                                NaN   \n",
       "2           2  UNBELIEVABLE! OBAMA’S ATTORNEY GENERAL SAYS MO...   \n",
       "3           3  Bobby Jindal, raised Hindu, uses story of Chri...   \n",
       "4           4  SATAN 2: Russia unvelis an image of its terrif...   \n",
       "\n",
       "                                                text label  \n",
       "0  No comment is expected from Barack Obama Membe...  True  \n",
       "1     Did they post their votes for Hillary already?  True  \n",
       "2   Now, most of the demonstrators gathered last ...  True  \n",
       "3  A dozen politically active pastors came here f...  Fake  \n",
       "4  The RS-28 Sarmat missile, dubbed Satan 2, will...  True  "
      ]
     },
     "execution_count": 19,
     "metadata": {},
     "output_type": "execute_result"
    }
   ],
   "source": [
    "combined_df['label'] = combined_df['label'].replace({0: 'Fake', 1: 'True'})\n",
    "combined_df.head()"
   ]
  },
  {
   "cell_type": "code",
   "execution_count": 20,
   "id": "7bf0882d",
   "metadata": {
    "execution": {
     "iopub.execute_input": "2025-04-30T16:10:07.123658Z",
     "iopub.status.busy": "2025-04-30T16:10:07.123341Z",
     "iopub.status.idle": "2025-04-30T16:10:07.138779Z",
     "shell.execute_reply": "2025-04-30T16:10:07.137773Z"
    },
    "papermill": {
     "duration": 0.020689,
     "end_time": "2025-04-30T16:10:07.140372",
     "exception": false,
     "start_time": "2025-04-30T16:10:07.119683",
     "status": "completed"
    },
    "tags": []
   },
   "outputs": [
    {
     "data": {
      "text/plain": [
       "label\n",
       "True    37106\n",
       "Fake    35028\n",
       "Name: count, dtype: int64"
      ]
     },
     "execution_count": 20,
     "metadata": {},
     "output_type": "execute_result"
    }
   ],
   "source": [
    "combined_df['label'].value_counts()"
   ]
  },
  {
   "cell_type": "markdown",
   "id": "a6043023",
   "metadata": {
    "papermill": {
     "duration": 0.002334,
     "end_time": "2025-04-30T16:10:07.145518",
     "exception": false,
     "start_time": "2025-04-30T16:10:07.143184",
     "status": "completed"
    },
    "tags": []
   },
   "source": [
    "# EDA"
   ]
  },
  {
   "cell_type": "code",
   "execution_count": null,
   "id": "8b413329",
   "metadata": {
    "execution": {
     "iopub.execute_input": "2025-04-30T16:10:07.151817Z",
     "iopub.status.busy": "2025-04-30T16:10:07.151530Z",
     "iopub.status.idle": "2025-04-30T16:11:02.178823Z",
     "shell.execute_reply": "2025-04-30T16:11:02.177823Z"
    },
    "papermill": {
     "duration": 55.046298,
     "end_time": "2025-04-30T16:11:02.194326",
     "exception": false,
     "start_time": "2025-04-30T16:10:07.148028",
     "status": "completed"
    },
    "tags": []
   },
   "outputs": [],
   "source": [
    "import matplotlib.pyplot as plt\n",
    "from wordcloud import WordCloud\n",
    "\n",
    "fake_news_text = ' '.join(combined_df[combined_df['label'] == 'Fake']['text'].astype(str))\n",
    "true_news_text = ' '.join(combined_df[combined_df['label'] == 'True']['text'].astype(str))\n",
    "\n",
    "fake_news_wordcloud = WordCloud(width=800, height=400, background_color='white').generate(fake_news_text)\n",
    "true_news_wordcloud = WordCloud(width=800, height=400, background_color='white').generate(true_news_text)\n",
    "\n",
    "plt.figure(figsize=(12, 6))\n",
    "plt.subplot(1, 2, 1)\n",
    "plt.imshow(fake_news_wordcloud, interpolation='bilinear')\n",
    "plt.title('Word Cloud for Fake News')\n",
    "plt.axis('off')\n",
    "\n",
    "plt.subplot(1, 2, 2)\n",
    "plt.imshow(true_news_wordcloud, interpolation='bilinear')\n",
    "plt.title('Word Cloud for True News')\n",
    "plt.axis('off')\n",
    "\n",
    "plt.show()"
   ]
  },
  {
   "cell_type": "code",
   "execution_count": 5,
   "id": "a74b10e5",
   "metadata": {
    "execution": {
     "iopub.execute_input": "2025-04-30T16:11:02.211379Z",
     "iopub.status.busy": "2025-04-30T16:11:02.210949Z",
     "iopub.status.idle": "2025-04-30T16:11:15.336433Z",
     "shell.execute_reply": "2025-04-30T16:11:15.335261Z"
    },
    "papermill": {
     "duration": 13.135971,
     "end_time": "2025-04-30T16:11:15.338089",
     "exception": false,
     "start_time": "2025-04-30T16:11:02.202118",
     "status": "completed"
    },
    "tags": []
   },
   "outputs": [
    {
     "ename": "ModuleNotFoundError",
     "evalue": "No module named 'nltk'",
     "output_type": "error",
     "traceback": [
      "\u001b[31m---------------------------------------------------------------------------\u001b[39m",
      "\u001b[31mModuleNotFoundError\u001b[39m                       Traceback (most recent call last)",
      "\u001b[36mCell\u001b[39m\u001b[36m \u001b[39m\u001b[32mIn[5]\u001b[39m\u001b[32m, line 2\u001b[39m\n\u001b[32m      1\u001b[39m \u001b[38;5;28;01mfrom\u001b[39;00m\u001b[38;5;250m \u001b[39m\u001b[34;01mcollections\u001b[39;00m\u001b[38;5;250m \u001b[39m\u001b[38;5;28;01mimport\u001b[39;00m Counter\n\u001b[32m----> \u001b[39m\u001b[32m2\u001b[39m \u001b[38;5;28;01mimport\u001b[39;00m\u001b[38;5;250m \u001b[39m\u001b[34;01mnltk\u001b[39;00m\n\u001b[32m      3\u001b[39m \u001b[38;5;28;01mfrom\u001b[39;00m\u001b[38;5;250m \u001b[39m\u001b[34;01mnltk\u001b[39;00m\u001b[34;01m.\u001b[39;00m\u001b[34;01mcorpus\u001b[39;00m\u001b[38;5;250m \u001b[39m\u001b[38;5;28;01mimport\u001b[39;00m stopwords\n\u001b[32m      4\u001b[39m \u001b[38;5;28;01mimport\u001b[39;00m\u001b[38;5;250m \u001b[39m\u001b[34;01mstring\u001b[39;00m\n",
      "\u001b[31mModuleNotFoundError\u001b[39m: No module named 'nltk'"
     ]
    }
   ],
   "source": [
    "from collections import Counter\n",
    "import nltk\n",
    "from nltk.corpus import stopwords\n",
    "import string\n",
    "\n",
    "nltk.download('stopwords', quiet=True)\n",
    "stop_words = set(stopwords.words('english'))\n",
    "\n",
    "def preprocess_text(text):\n",
    "    text = text.lower()\n",
    "    text = text.translate(str.maketrans('', '', string.punctuation))\n",
    "    words = text.split()\n",
    "    words = [word for word in words if word not in stop_words]\n",
    "    return words\n",
    "\n",
    "fake_news_words = combined_df[combined_df['label'] == 'Fake']['text'].astype(str).apply(preprocess_text).explode()\n",
    "true_news_words = combined_df[combined_df['label'] == 'True']['text'].astype(str).apply(preprocess_text).explode()\n",
    "\n",
    "fake_news_word_counts = Counter(fake_news_words)\n",
    "true_news_word_counts = Counter(true_news_words)\n",
    "\n",
    "print(\"Most Common Words in Fake News:\")\n",
    "print(fake_news_word_counts.most_common(10))\n",
    "print(\"\\nMost Common Words in True News:\")\n",
    "print(true_news_word_counts.most_common(10))"
   ]
  },
  {
   "cell_type": "code",
   "execution_count": null,
   "id": "d7b95d76",
   "metadata": {
    "execution": {
     "iopub.execute_input": "2025-04-30T16:11:15.355347Z",
     "iopub.status.busy": "2025-04-30T16:11:15.354894Z",
     "iopub.status.idle": "2025-04-30T16:11:21.464548Z",
     "shell.execute_reply": "2025-04-30T16:11:21.463427Z"
    },
    "papermill": {
     "duration": 6.120129,
     "end_time": "2025-04-30T16:11:21.466074",
     "exception": false,
     "start_time": "2025-04-30T16:11:15.345945",
     "status": "completed"
    },
    "tags": []
   },
   "outputs": [
    {
     "data": {
      "image/png": "[encoded data removed]",
      "text/plain": [
       "<Figure size 1000x600 with 1 Axes>"
      ]
     },
     "metadata": {},
     "output_type": "display_data"
    },
    {
     "name": "stdout",
     "output_type": "stream",
     "text": [
      "\n",
      "Descriptive Statistics of Text Length by Label:\n",
      "         count         mean          std  min     25%     50%     75%      max\n",
      "label                                                                         \n",
      "Fake   23481.0  2547.396235  2532.884399  1.0  1433.0  2166.0  3032.0  51794.0\n",
      "True   21417.0  2383.278517  1684.835730  1.0   914.0  2222.0  3237.0  29781.0\n"
     ]
    },
    {
     "data": {
      "image/png": "[encoded data removed]",
      "text/plain": [
       "<Figure size 1000x600 with 1 Axes>"
      ]
     },
     "metadata": {},
     "output_type": "display_data"
    },
    {
     "name": "stdout",
     "output_type": "stream",
     "text": [
      "\n",
      "Descriptive Statistics of Word Count by Label:\n",
      "         count        mean         std  min    25%    50%    75%     max\n",
      "label                                                                   \n",
      "Fake   23481.0  423.197905  408.388890  0.0  240.0  363.0  506.0  8135.0\n",
      "True   21417.0  385.640099  274.006204  0.0  148.0  359.0  525.0  5172.0\n"
     ]
    }
   ],
   "source": [
    "import pandas as pd\n",
    "import matplotlib.pyplot as plt\n",
    "import seaborn as sns\n",
    "\n",
    "# Distribution of the length of the news articles\n",
    "combined_df['text_length'] = combined_df['text'].apply(len)\n",
    "\n",
    "plt.figure(figsize=(10, 6))\n",
    "sns.histplot(combined_df, x='text_length', hue='label', kde=True)\n",
    "plt.title('Distribution of Text Length by Label')\n",
    "plt.xlabel('Text Length')\n",
    "plt.ylabel('Frequency')\n",
    "plt.show()\n",
    "\n",
    "print(\"\\nDescriptive Statistics of Text Length by Label:\")\n",
    "print(combined_df.groupby('label')['text_length'].describe())\n",
    "\n",
    "# Distribution of the number of words in the news articles\n",
    "combined_df['word_count'] = combined_df['text'].apply(lambda x: len(x.split()))\n",
    "\n",
    "plt.figure(figsize=(10, 6))\n",
    "sns.histplot(combined_df, x='word_count', hue='label', kde=True)\n",
    "plt.title('Distribution of Word Count by Label')\n",
    "plt.xlabel('Word Count')\n",
    "plt.ylabel('Frequency')\n",
    "plt.show()\n",
    "\n",
    "print(\"\\nDescriptive Statistics of Word Count by Label:\")\n",
    "print(combined_df.groupby('label')['word_count'].describe())"
   ]
  },
  {
   "cell_type": "markdown",
   "id": "f652cc27",
   "metadata": {
    "papermill": {
     "duration": 0.009921,
     "end_time": "2025-04-30T16:11:21.486204",
     "exception": false,
     "start_time": "2025-04-30T16:11:21.476283",
     "status": "completed"
    },
    "tags": []
   },
   "source": [
    "# SVM"
   ]
  },
  {
   "cell_type": "markdown",
   "id": "5d444f8c",
   "metadata": {},
   "source": [
    "## Train Model"
   ]
  },
  {
   "cell_type": "code",
   "execution_count": null,
   "id": "f27ddd72",
   "metadata": {
    "execution": {
     "iopub.execute_input": "2025-04-30T16:11:21.507897Z",
     "iopub.status.busy": "2025-04-30T16:11:21.507399Z",
     "iopub.status.idle": "2025-04-30T16:29:51.270995Z",
     "shell.execute_reply": "2025-04-30T16:29:51.270023Z"
    },
    "papermill": {
     "duration": 1109.7855,
     "end_time": "2025-04-30T16:29:51.281273",
     "exception": false,
     "start_time": "2025-04-30T16:11:21.495773",
     "status": "completed"
    },
    "tags": []
   },
   "outputs": [],
   "source": [
    "from sklearn.model_selection import train_test_split\n",
    "from sklearn.feature_extraction.text import TfidfVectorizer\n",
    "from sklearn.svm import SVC\n",
    "from sklearn.metrics import accuracy_score, confusion_matrix, ConfusionMatrixDisplay\n",
    "import matplotlib.pyplot as plt\n",
    "\n",
    "# Combine 'title' and 'text' columns\n",
    "combined_df['combined_text'] = combined_df['title'].fillna('') + ' ' + combined_df['text'].fillna('')\n",
    "\n",
    "# Prepare the data\n",
    "X = combined_df['combined_text']\n",
    "y = combined_df['label']\n",
    "\n",
    "# Split the data into training and testing sets\n",
    "X_train, X_test, y_train, y_test = train_test_split(X, y, test_size=0.2, random_state=42)\n",
    "\n",
    "# Convert text data into numerical vectors using TF-IDF\n",
    "tfidf_vectorizer = TfidfVectorizer(stop_words='english', max_df=0.7)\n",
    "X_train_tfidf = tfidf_vectorizer.fit_transform(X_train)\n",
    "X_test_tfidf = tfidf_vectorizer.transform(X_test)\n",
    "\n",
    "# Train the Support Vector Machine (SVM) classifier\n",
    "svm_classifier = SVC(kernel='linear', random_state=42)\n",
    "svm_classifier.fit(X_train_tfidf, y_train)\n",
    "\n"
   ]
  },
  {
   "cell_type": "markdown",
   "id": "d669cb6c",
   "metadata": {},
   "source": [
    "## Predict and calculate metrics"
   ]
  },
  {
   "cell_type": "code",
   "execution_count": null,
   "id": "dc09f448",
   "metadata": {},
   "outputs": [],
   "source": [
    "# Make predictions on the test set\n",
    "y_pred = svm_classifier.predict(X_test_tfidf)\n",
    "\n",
    "# Calculate the accuracy\n",
    "accuracy = accuracy_score(y_test, y_pred)\n",
    "print(f\"Accuracy on the Test Set: {accuracy:.4f}\")\n",
    "\n",
    "# Plot the confusion matrix\n",
    "cm = confusion_matrix(y_test, y_pred, labels=['Fake', 'True'])\n",
    "disp = ConfusionMatrixDisplay(confusion_matrix=cm, display_labels=['Fake', 'True'])\n",
    "disp.plot(cmap=plt.cm.Blues)\n",
    "plt.title('Confusion Matrix')\n",
    "plt.show()\n",
    "\n",
    "# Analyze which class is predicted better and worse\n",
    "cm_normalized = cm.astype('float') / cm.sum(axis=1)[:, None]\n",
    "\n",
    "fake_accuracy = cm_normalized[0, 0]\n",
    "true_accuracy = cm_normalized[1, 1]\n",
    "\n",
    "print(\"\\nClass-wise Performance (based on normalized confusion matrix):\")\n",
    "print(f\"Percentage of correctly predicted 'Fake' news: {fake_accuracy:.4f}\")\n",
    "print(f\"Percentage of correctly predicted 'True' news: {true_accuracy:.4f}\")\n",
    "\n",
    "if fake_accuracy > true_accuracy:\n",
    "    print(\"\\nThe 'Fake' class was predicted better than the 'True' class.\")\n",
    "elif true_accuracy > fake_accuracy:\n",
    "    print(\"\\nThe 'True' class was predicted better than the 'Fake' class.\")\n",
    "else:\n",
    "    print(\"\\nThe prediction performance for both classes is similar.\")\n",
    "\n",
    "# Identify which class is predicted worse (higher misclassification rate)\n",
    "fake_misclassification = 1 - fake_accuracy\n",
    "true_misclassification = 1 - true_accuracy\n",
    "\n",
    "if fake_misclassification > true_misclassification:\n",
    "    print(\"\\nThe 'Fake' class was predicted worse than the 'True' class.\")\n",
    "elif true_misclassification > fake_misclassification:\n",
    "    print(\"\\nThe 'True' class was predicted worse than the 'Fake' class.\")\n",
    "else:\n",
    "    print(\"\\nThe misclassification rate is similar for both classes.\")"
   ]
  },
  {
   "cell_type": "code",
   "execution_count": 8,
   "id": "8505f855",
   "metadata": {
    "execution": {
     "iopub.execute_input": "2025-04-30T16:29:51.303671Z",
     "iopub.status.busy": "2025-04-30T16:29:51.303329Z",
     "iopub.status.idle": "2025-04-30T16:29:51.321847Z",
     "shell.execute_reply": "2025-04-30T16:29:51.320564Z"
    },
    "papermill": {
     "duration": 0.031508,
     "end_time": "2025-04-30T16:29:51.323781",
     "exception": false,
     "start_time": "2025-04-30T16:29:51.292273",
     "status": "completed"
    },
    "tags": []
   },
   "outputs": [
    {
     "name": "stdout",
     "output_type": "stream",
     "text": [
      "\n",
      "Examples of False Positives (Fake News Classified as True):\n",
      "\n",
      "Text:  Energy Department To Close Office Of International Climate And Technology In response to the U.S. withdrawing from the Paris climate agreement earlier this month, the Energy Department is shutting do...\n",
      "Actual Label: Fake\n",
      "Predicted Label: True\n",
      "--------------------------------------------------\n",
      "Text: PALESTINIANS STEPPING UP STABBINGS: Dramatic Video Shows Palestinian Man Stabbing Israeli Police Officers…Israeli Teen Stabbed On Bicycle ***Warning*** Graphic photo and videoThank goodness Israeli s ...\n",
      "Actual Label: Fake\n",
      "Predicted Label: True\n",
      "--------------------------------------------------\n",
      "Text: DISGUSTING! SEATTLE MAYOR WHO Announced He’s Suing Trump Over Sanctuary City Exec Order Is Accused Of Raping 15-Yr Old Boy, Two Others Ed Murray has just been accused of alleged sexual assault of teen...\n",
      "Actual Label: Fake\n",
      "Predicted Label: True\n",
      "--------------------------------------------------\n",
      "Text: N. KOREA’S LATEST MISSILE LAUNCH Aimed At Testing Carrying “Large Scale Heavy Nuclear Warhead” North Korea said on Monday it had successfully conducted a newly developed mid-to-long range missile test...\n",
      "Actual Label: Fake\n",
      "Predicted Label: True\n",
      "--------------------------------------------------\n",
      "Text: BREAKING: Republican Majority House Caves To Obama…Narrowly Passes TPA Bill Just when you thought the 2014 election results would provide America with some checks and balances U.S. lawmakers narrowly ...\n",
      "Actual Label: Fake\n",
      "Predicted Label: True\n",
      "--------------------------------------------------\n",
      "\n",
      "Examples of False Negatives (True News Classified as Fake):\n",
      "\n",
      "Text: Trump son-in-law Kushner's congressional statement WASHINGTON (Reuters) - I am voluntarily providing this statement, submitting documents, and sitting for interviews in order to shed light on issues t...\n",
      "Actual Label: True\n",
      "Predicted Label: Fake\n",
      "--------------------------------------------------\n",
      "Text: Ex-South Carolina cop gets 20 years in prison for black motorist's death CHARLESTON, S.C. (Reuters) - The white former policeman caught on video shooting an unarmed black man in the back after a 2015 ...\n",
      "Actual Label: True\n",
      "Predicted Label: Fake\n",
      "--------------------------------------------------\n",
      "Text: Van Niekerk forced to work his way to tantalizing 400m final LONDON (Reuters) - Wayde van Niekerk duly qualified for the World Championship 400 meters final on Sunday but the defending champion and wo...\n",
      "Actual Label: True\n",
      "Predicted Label: Fake\n",
      "--------------------------------------------------\n",
      "Text: Tillerson: 'simply no place' for hate and violence in U.S. public discourse WASHINGTON (Reuters) - There is “simply no place” in American public discourse for “hate and violence” displayed in Charlott...\n",
      "Actual Label: True\n",
      "Predicted Label: Fake\n",
      "--------------------------------------------------\n",
      "Text: Russia's response to Trump leak reports: don't read U.S. newspapers (Reuters) - A Russian Foreign Ministry spokeswoman on Tuesday advised that people don’t read American newspapers, in response to U.S...\n",
      "Actual Label: True\n",
      "Predicted Label: Fake\n",
      "--------------------------------------------------\n"
     ]
    }
   ],
   "source": [
    "# Create a DataFrame with the test data and predictions\n",
    "predictions_df = pd.DataFrame({'text': X_test, 'actual_label': y_test, 'predicted_label': y_pred})\n",
    "\n",
    "# Filter for false positives (Fake classified as True)\n",
    "false_positives = predictions_df[(predictions_df['actual_label'] == 'Fake') & (predictions_df['predicted_label'] == 'True')]\n",
    "\n",
    "# Filter for false negatives (True classified as Fake)\n",
    "false_negatives = predictions_df[(predictions_df['actual_label'] == 'True') & (predictions_df['predicted_label'] == 'Fake')]\n",
    "\n",
    "print(\"\\nExamples of False Positives (Fake News Classified as True):\\n\")\n",
    "if not false_positives.empty:\n",
    "    for index, row in false_positives.head(5).iterrows():\n",
    "        print(f\"Text: {row['text'][:200]}...\")\n",
    "        print(f\"Actual Label: {row['actual_label']}\")\n",
    "        print(f\"Predicted Label: {row['predicted_label']}\")\n",
    "        print(\"-\" * 50)\n",
    "else:\n",
    "    print(\"No false positives found.\")\n",
    "\n",
    "print(\"\\nExamples of False Negatives (True News Classified as Fake):\\n\")\n",
    "if not false_negatives.empty:\n",
    "    for index, row in false_negatives.head(5).iterrows():\n",
    "        print(f\"Text: {row['text'][:200]}...\")\n",
    "        print(f\"Actual Label: {row['actual_label']}\")\n",
    "        print(f\"Predicted Label: {row['predicted_label']}\")\n",
    "        print(\"-\" * 50)\n",
    "else:\n",
    "    print(\"No false negatives found.\")"
   ]
  }
 ],
 "metadata": {
  "kaggle": {
   "accelerator": "none",
   "dataSources": [
    {
     "datasetId": 7278464,
     "sourceId": 11604520,
     "sourceType": "datasetVersion"
    }
   ],
   "dockerImageVersionId": 31012,
   "isGpuEnabled": false,
   "isInternetEnabled": true,
   "language": "python",
   "sourceType": "notebook"
  },
  "kernelspec": {
   "display_name": "env",
   "language": "python",
   "name": "python3"
  },
  "language_info": {
   "codemirror_mode": {
    "name": "ipython",
    "version": 3
   },
   "file_extension": ".py",
   "mimetype": "text/x-python",
   "name": "python",
   "nbconvert_exporter": "python",
   "pygments_lexer": "ipython3",
   "version": "3.12.10"
  },
  "papermill": {
   "default_parameters": {},
   "duration": 1195.361659,
   "end_time": "2025-04-30T16:29:52.559609",
   "environment_variables": {},
   "exception": null,
   "input_path": "__notebook__.ipynb",
   "output_path": "__notebook__.ipynb",
   "parameters": {},
   "start_time": "2025-04-30T16:09:57.197950",
   "version": "2.6.0"
  }
 },
 "nbformat": 4,
 "nbformat_minor": 5
}
